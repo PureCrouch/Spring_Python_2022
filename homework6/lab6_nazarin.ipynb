{
 "cells": [
  {
   "cell_type": "markdown",
   "metadata": {},
   "source": [
    "## 6-е домашнее задание - Библиотека numpy\n",
    "\n",
    "<H1>Назарьин Артем, НПМбд-01-19</H1>\n",
    "\n"
   ]
  },
  {
   "cell_type": "markdown",
   "metadata": {},
   "source": [
    "1.\tСоздайте равномерное разбиение интервала от -1.3 до 2.5 на 64 отрезка."
   ]
  },
  {
   "cell_type": "code",
   "execution_count": 2,
   "metadata": {},
   "outputs": [
    {
     "name": "stdout",
     "output_type": "stream",
     "text": [
      "[-1.3        -1.23968254 -1.17936508 -1.11904762 -1.05873016 -0.9984127\n",
      " -0.93809524 -0.87777778 -0.81746032 -0.75714286 -0.6968254  -0.63650794\n",
      " -0.57619048 -0.51587302 -0.45555556 -0.3952381  -0.33492063 -0.27460317\n",
      " -0.21428571 -0.15396825 -0.09365079 -0.03333333  0.02698413  0.08730159\n",
      "  0.14761905  0.20793651  0.26825397  0.32857143  0.38888889  0.44920635\n",
      "  0.50952381  0.56984127  0.63015873  0.69047619  0.75079365  0.81111111\n",
      "  0.87142857  0.93174603  0.99206349  1.05238095  1.11269841  1.17301587\n",
      "  1.23333333  1.29365079  1.35396825  1.41428571  1.47460317  1.53492063\n",
      "  1.5952381   1.65555556  1.71587302  1.77619048  1.83650794  1.8968254\n",
      "  1.95714286  2.01746032  2.07777778  2.13809524  2.1984127   2.25873016\n",
      "  2.31904762  2.37936508  2.43968254  2.5       ]\n"
     ]
    }
   ],
   "source": [
    "import numpy as np\n",
    "print(np.linspace(-1.3, 2.5, 64))"
   ]
  },
  {
   "cell_type": "markdown",
   "metadata": {},
   "source": [
    "2.\tСгенерируйте numpy массив длины $3n$, заполненный циклически числами 1, 2, 3, 1, 2, 3, 1...."
   ]
  },
  {
   "cell_type": "code",
   "execution_count": 3,
   "metadata": {},
   "outputs": [
    {
     "name": "stdout",
     "output_type": "stream",
     "text": [
      "3\n"
     ]
    },
    {
     "data": {
      "text/plain": [
       "array([1, 2, 3, 1, 2, 3, 1, 2, 3, 1, 2, 3, 1, 2, 3, 1, 2, 3, 1, 2, 3, 1,\n",
       "       2, 3, 1, 2, 3])"
      ]
     },
     "execution_count": 3,
     "metadata": {},
     "output_type": "execute_result"
    }
   ],
   "source": [
    "n = int(input())\n",
    "np.tile(np.array([1, 2, 3]), 3*n)"
   ]
  },
  {
   "cell_type": "markdown",
   "metadata": {},
   "source": [
    "3.\tСоздайте массив первых 10 нечетных целых чисел."
   ]
  },
  {
   "cell_type": "code",
   "execution_count": 5,
   "metadata": {},
   "outputs": [
    {
     "data": {
      "text/plain": [
       "array([1, 3, 5, 7, 9])"
      ]
     },
     "execution_count": 5,
     "metadata": {},
     "output_type": "execute_result"
    }
   ],
   "source": [
    "np.arange(1, 10, 2)"
   ]
  },
  {
   "cell_type": "markdown",
   "metadata": {},
   "source": [
    "4.  Создайте массив нулей размера 10 x 10, а затем создайте в нём \"рамку\" из единиц по краям."
   ]
  },
  {
   "cell_type": "code",
   "execution_count": 8,
   "metadata": {},
   "outputs": [
    {
     "data": {
      "text/plain": [
       "array([[1., 1., 1., 1., 1., 1., 1., 1., 1., 1., 1., 1.],\n",
       "       [1., 0., 0., 0., 0., 0., 0., 0., 0., 0., 0., 1.],\n",
       "       [1., 0., 0., 0., 0., 0., 0., 0., 0., 0., 0., 1.],\n",
       "       [1., 0., 0., 0., 0., 0., 0., 0., 0., 0., 0., 1.],\n",
       "       [1., 0., 0., 0., 0., 0., 0., 0., 0., 0., 0., 1.],\n",
       "       [1., 0., 0., 0., 0., 0., 0., 0., 0., 0., 0., 1.],\n",
       "       [1., 0., 0., 0., 0., 0., 0., 0., 0., 0., 0., 1.],\n",
       "       [1., 0., 0., 0., 0., 0., 0., 0., 0., 0., 0., 1.],\n",
       "       [1., 0., 0., 0., 0., 0., 0., 0., 0., 0., 0., 1.],\n",
       "       [1., 0., 0., 0., 0., 0., 0., 0., 0., 0., 0., 1.],\n",
       "       [1., 0., 0., 0., 0., 0., 0., 0., 0., 0., 0., 1.],\n",
       "       [1., 1., 1., 1., 1., 1., 1., 1., 1., 1., 1., 1.]])"
      ]
     },
     "execution_count": 8,
     "metadata": {},
     "output_type": "execute_result"
    }
   ],
   "source": [
    "a = np.zeros((10, 10))\n",
    "np.pad(a, pad_width = 1, mode='constant', constant_values = 1)"
   ]
  },
  {
   "cell_type": "markdown",
   "metadata": {},
   "source": [
    "5.  Создайте массив 8 x 8 с шахматной доской из нулей и единиц."
   ]
  },
  {
   "cell_type": "code",
   "execution_count": 9,
   "metadata": {},
   "outputs": [
    {
     "name": "stdout",
     "output_type": "stream",
     "text": [
      "[[0. 1. 0. 1. 0. 1. 0. 1.]\n",
      " [1. 0. 1. 0. 1. 0. 1. 0.]\n",
      " [0. 1. 0. 1. 0. 1. 0. 1.]\n",
      " [1. 0. 1. 0. 1. 0. 1. 0.]\n",
      " [0. 1. 0. 1. 0. 1. 0. 1.]\n",
      " [1. 0. 1. 0. 1. 0. 1. 0.]\n",
      " [0. 1. 0. 1. 0. 1. 0. 1.]\n",
      " [1. 0. 1. 0. 1. 0. 1. 0.]]\n"
     ]
    }
   ],
   "source": [
    "a = np.zeros((8, 8))\n",
    "a[1::2, ::2] = 1\n",
    "a[::2, 1::2] = 1\n",
    "print(a)"
   ]
  },
  {
   "cell_type": "markdown",
   "metadata": {},
   "source": [
    "6.  Создайте функцию, которая создает $n×n$ матрицу с $(i,j)$-элементом, равным $i+j$."
   ]
  },
  {
   "cell_type": "code",
   "execution_count": 14,
   "metadata": {},
   "outputs": [
    {
     "name": "stdout",
     "output_type": "stream",
     "text": [
      "5\n",
      "[[0. 1. 2. 3. 4.]\n",
      " [1. 2. 3. 4. 5.]\n",
      " [2. 3. 4. 5. 6.]\n",
      " [3. 4. 5. 6. 7.]\n",
      " [4. 5. 6. 7. 8.]]\n"
     ]
    }
   ],
   "source": [
    "n = int(input())\n",
    "def func(i, j):\n",
    "    elem = i + j\n",
    "    return elem\n",
    "print(np.fromfunction(func, (n, n))) #numpy.fromfunction создает массив, выполнив функцию над каждой координатой\n"
   ]
  },
  {
   "cell_type": "markdown",
   "metadata": {},
   "source": [
    "##### 7. Примените функцию dot для перемножения вектор на вектор, матрицу на вектор и матрицу на матрицу."
   ]
  },
  {
   "cell_type": "code",
   "execution_count": 28,
   "metadata": {},
   "outputs": [
    {
     "name": "stdout",
     "output_type": "stream",
     "text": [
      "matrix1 x matrix2 = [[24 25]\n",
      " [20 29]]\n",
      "vector1 x vector2 =  [11]\n",
      "vector1 x matrix1 =  [11 10]\n"
     ]
    }
   ],
   "source": [
    "matrix1 = [[5, 2], [3, 4]]\n",
    "matrix2 = [[4, 3], [2, 5]]\n",
    "print('matrix1 x matrix2 =', np.dot(matrix1, matrix2))\n",
    "\n",
    "vector1 = np.array([1, 2])\n",
    "vector2 = np.array([[3],\n",
    "                   [4]])\n",
    "print('vector1 x vector2 = ', np.dot(vector1, vector2))\n",
    "print('vector1 x matrix1 = ', np.dot(vector1, matrix1))"
   ]
  },
  {
   "cell_type": "markdown",
   "metadata": {},
   "source": [
    "8. Вычислите cos(x) и sin(x) на интервале [0,1] с шагом $0.05$, а затем объедините оба массива чисел как строки в один массив."
   ]
  },
  {
   "cell_type": "code",
   "execution_count": 29,
   "metadata": {},
   "outputs": [
    {
     "data": {
      "text/plain": [
       "array([1.        , 0.99875026, 0.99500417, 0.98877108, 0.98006658,\n",
       "       0.96891242, 0.95533649, 0.93937271, 0.92106099, 0.9004471 ,\n",
       "       0.87758256, 0.85252452, 0.82533561, 0.7960838 , 0.76484219,\n",
       "       0.73168887, 0.69670671, 0.65998315, 0.62160997, 0.58168309,\n",
       "       0.54030231, 0.        , 0.04997917, 0.09983342, 0.14943813,\n",
       "       0.19866933, 0.24740396, 0.29552021, 0.34289781, 0.38941834,\n",
       "       0.43496553, 0.47942554, 0.52268723, 0.56464247, 0.60518641,\n",
       "       0.64421769, 0.68163876, 0.71735609, 0.75128041, 0.78332691,\n",
       "       0.8134155 , 0.84147098])"
      ]
     },
     "execution_count": 29,
     "metadata": {},
     "output_type": "execute_result"
    }
   ],
   "source": [
    "import numpy as np\n",
    "pr = np.linspace(0, 1, int(1/0.05)+1)\n",
    "f_sin = np.sin(pr)\n",
    "f_cos = np.cos(pr)\n",
    "np.concatenate([f_cos, f_sin])           #Конкатенация "
   ]
  },
  {
   "cell_type": "markdown",
   "metadata": {},
   "source": [
    "9. Создайте матрицу $A$ размера $3×5$ из случайных чисел с равномерным распределением на отрезке $[-1,3]$ (используйте np.random.rand)"
   ]
  },
  {
   "cell_type": "code",
   "execution_count": 34,
   "metadata": {},
   "outputs": [
    {
     "name": "stdout",
     "output_type": "stream",
     "text": [
      "[[ 2.65485143 -0.78652645 -0.21827516  1.77666572  2.23998432]\n",
      " [ 1.90281661  1.14000333  1.5421516   0.96557611  2.65389204]\n",
      " [-0.15027106  0.52967396  1.69337403 -0.66923048  2.99685678]]\n"
     ]
    }
   ],
   "source": [
    "A = 4*np.random.random_sample(size = (3,5))-1               #4 и -1 здесь т.к. по формуле: (b - a) * random_sample() + a\n",
    "print(A)"
   ]
  },
  {
   "cell_type": "markdown",
   "metadata": {},
   "source": [
    "10. Найдите сумму всех элементов, сумму внутри строк, сумму внутри столбцов, а также среднее значение, дисперсию и стандартное отклонение чисел для каждой строки матрицы $A$. (Подобно тому, как sorted имеет необязательный аргумент key=, многие функции Numpy имеют необязательный аргумент axis=)\n"
   ]
  },
  {
   "cell_type": "code",
   "execution_count": 46,
   "metadata": {},
   "outputs": [
    {
     "name": "stdout",
     "output_type": "stream",
     "text": [
      "сумма элеменнтов: 18.271542783865435\n",
      "сумма внутри строк: [5.66669986 8.20443969 4.40040323]\n",
      "сумма внутри столбцов: [4.40739698 0.88315084 3.01725048 2.07301135 7.89073313]\n",
      "среднее значение: [1.13333997 1.64088794 0.88008065]\n",
      "дисперсия [1.89325548 0.36229285 1.74539236]\n",
      "стандартное отклонение: [1.37595621 0.60190768 1.32113298]\n"
     ]
    }
   ],
   "source": [
    "summ = np.sum(A)\n",
    "sum_row = np.sum(A, axis=1)                    #сумма по строкам\n",
    "sum_col = np.sum(A.transpose(), axis=1)        #сумма по столбцам\n",
    "average = np.average(A, axis=1)\n",
    "D = np.var(A, axis=1, dtype=float)\n",
    "sigma = np.sqrt(D)\n",
    "print('сумма элеменнтов:', summ)\n",
    "print('сумма внутри строк:', sum_row)\n",
    "print('сумма внутри столбцов:', sum_col)\n",
    "print('среднее значение:', aver)\n",
    "print('дисперсия', D)\n",
    "print('стандартное отклонение:', sigma)\n",
    "\n",
    "\n",
    "\n",
    "#e.shape == (3, 2, 2)\n",
    "#Sum over an axis is a reduction operation so the specified axis disappears. Hence,\n",
    "\n",
    "#e.sum(axis=0).shape == (2, 2)\n",
    "#e.sum(axis=1).shape == (3, 2)\n",
    "#e.sum(axis=2).shape == (3, 2)\n",
    "#Intuitively, we are \"squashing\" the array along the chosen axis, and summing the numbers that get squashed together.\n",
    "\n"
   ]
  },
  {
   "cell_type": "markdown",
   "metadata": {},
   "source": [
    "11.  Отнимите от каждого элемента матрицы $A$ среднее по строке и поделите на стандартное отклонение строки."
   ]
  },
  {
   "cell_type": "code",
   "execution_count": 56,
   "metadata": {},
   "outputs": [
    {
     "name": "stdout",
     "output_type": "stream",
     "text": [
      "[[ 0.30726161  1.28292327  0.60609539 -0.85942623 -0.25296211]\n",
      " [-1.41410472  0.71525604 -0.59927012 -3.95655456 -1.09765535]\n",
      " [ 0.2993205  -0.442563   -1.20619243 -0.69229344 -0.84518534]]\n"
     ]
    }
   ],
   "source": [
    "print((A - average.reshape(len(average), 1)) / sigma.reshape(len(sigma), 1))"
   ]
  },
  {
   "cell_type": "markdown",
   "metadata": {},
   "source": [
    "12. Отсортируйте матрицу $A$ по 3-ому столбцу, т.е. поменяйте местами строки матрицы так, чтобы 3-й столбец оказался отсортированным. Используйте для этого slicing + argsort + indexing."
   ]
  },
  {
   "cell_type": "code",
   "execution_count": 60,
   "metadata": {},
   "outputs": [
    {
     "name": "stdout",
     "output_type": "stream",
     "text": [
      "[[ 1.1374527  -0.63580761 -0.16701724  2.01245582  1.70860196]\n",
      " [ 1.80193187  2.87842755  0.22127477 -0.05015119 -0.78939039]\n",
      " [ 1.85455489  0.57250373 -0.48869872  1.96272547  1.59635241]]\n",
      "[[ 1.85455489  0.57250373 -0.48869872  1.96272547  1.59635241]\n",
      " [ 1.1374527  -0.63580761 -0.16701724  2.01245582  1.70860196]\n",
      " [ 1.80193187  2.87842755  0.22127477 -0.05015119 -0.78939039]]\n"
     ]
    }
   ],
   "source": [
    "A = 4*np.random.random_sample(size = (3,5))-1   \n",
    "print(A)\n",
    "print(A[np.argsort(A[:,2])])\n"
   ]
  },
  {
   "cell_type": "markdown",
   "metadata": {},
   "source": [
    "13. Посчитайте две матрицы: $B = A^TA$ и $C = AA^T$. Что вы можете о них сказать? Какого они размера? В чём их сходство и отличие?"
   ]
  },
  {
   "cell_type": "code",
   "execution_count": 92,
   "metadata": {},
   "outputs": [
    {
     "name": "stdout",
     "output_type": "stream",
     "text": [
      "[[2 2 2]\n",
      " [2 1 2]\n",
      " [3 2 4]]\n",
      "B:  [[17 12 20]\n",
      " [12  9 14]\n",
      " [20 14 24]]\n",
      "C:  [[12 10 18]\n",
      " [10  9 16]\n",
      " [18 16 29]]\n"
     ]
    }
   ],
   "source": [
    "A = np.random.randint(1,5, size = (3,3))\n",
    "print(A)\n",
    "B = A.T.dot(A)\n",
    "C = A.dot(A.T)\n",
    "print('B: ',B)\n",
    "print('C: ',C)"
   ]
  },
  {
   "cell_type": "markdown",
   "metadata": {},
   "source": [
    "**Сходства: матрицы квадратные; различия: размерность B зависит от количества столбцов, C - от количества строк**"
   ]
  },
  {
   "cell_type": "markdown",
   "metadata": {},
   "source": [
    "14. Найдите сумму диагональных элементов матриц $B$ и $C$."
   ]
  },
  {
   "cell_type": "code",
   "execution_count": 94,
   "metadata": {},
   "outputs": [
    {
     "name": "stdout",
     "output_type": "stream",
     "text": [
      "50\n",
      "50\n"
     ]
    }
   ],
   "source": [
    "print(np.trace(B))\n",
    "print(np.trace(C))\n",
    "#numpy.trace: Return the sum along diagonals of the array"
   ]
  },
  {
   "cell_type": "markdown",
   "metadata": {},
   "source": [
    "15.\tПосчитайте детерминант и ранг матриц $A$, $B$ и $C$, посмотрите на спектр (набор собственных значений) матриц $B$ и $C$, какие выводы вы можете сделать?  \n",
    "(подсказка: используйте готовые функции из библиотеки np.linalg). \n"
   ]
  },
  {
   "cell_type": "code",
   "execution_count": 99,
   "metadata": {},
   "outputs": [
    {
     "name": "stdout",
     "output_type": "stream",
     "text": [
      "Определитель матрицы A = -2.0 , матрицы B =  4.0 матрицы C =  4.0\n",
      "Ранг матрицы A = 3 матрицы B = 3 матрицы C =  3\n",
      "Собственные значения матрицы B = [49.25038593  0.13136777  0.6182463 ] матрицы C = [49.25038593  0.6182463   0.13136777]\n"
     ]
    }
   ],
   "source": [
    "\n",
    "print(\"Определитель матрицы A =\", np.round(np.linalg.det(A), 1), \", матрицы B = \", np.round(np.linalg.det(B), 1) ,\"матрицы C = \", np.round(np.linalg.det(C)))\n",
    "print(\"Ранг матрицы A =\", np.linalg.matrix_rank(A), \"матрицы B =\", np.linalg.matrix_rank(B) ,\"матрицы C = \", np.linalg.matrix_rank(C))\n",
    "print(\"Собственные значения матрицы B =\", np.linalg.eigvals(B), \"матрицы C =\", np.linalg.eigvals(C))\n"
   ]
  },
  {
   "cell_type": "markdown",
   "metadata": {},
   "source": [
    "16. Численно посчитать определённый интеграл  3-мя методами:  \n",
    "a)\tПрямоугольников $\\int\\limits_a^b {f(x)dx \\approx \\Delta x\\sum\\limits_{k = 0}^N {f({x_k})} }$  \n",
    "b)\tТрапеций $\\int\\limits_a^b {f(x)dx \\approx \\frac{{\\Delta x}}{2}\\left( {f({x_0}) + 2\\sum\\limits_{k = 1}^{N - 1} {f({x_k})}  + f({x_N})} \\right)}$  \n",
    "c)\tПо правилу Симпсона  $\\int\\limits_a^b {f(x)dx \\approx \\frac{{\\Delta x}}{3}\\left( {f({x_0}) + 2\\sum\\limits_{k = 1}^{N/2 - 1} {f({x_{2k}})}  + 4\\sum\\limits_{k = 1}^{N/2} {f({x_{2k - 1}})}  + f({x_N})} \\right)}$  \n",
    "\n",
    "\n",
    "В реализации этих методов цикл for для суммирования использовать нельзя.  \n",
    "Нужно посчитать значение интеграла с некоторым шагом интегрирования (например начать с 0.1), потом уменьшить его в десять раз и ещё раз посчитать и так до тех пор пока отличие в ответах будет в 5-м знаке после запятой, т.е. чтобы ошибка была меньше 1e-5. Получить ответы для 3-х разных методов и сделать соответствующие выводы.  \n",
    "\n",
    "Далее необходимо сравнить полученные оценки с аналитическим решением (т.е. формульным, которое вы должны сами посчитать на листочке и вбить формулу-ответ).   \n",
    "\n",
    "В качестве интеграла взять один из следующих с номером, сгенерированным случайным образом с помощью функции np.random.randint(10), в качестве seed для генератора случайных чисел взять номер своего студенческого билета.\n",
    "\n",
    "<table width=\"80%\"\n",
    "       align=\"center\">\n",
    "    <tr>\n",
    "        <td> 0) $\\int\\limits_3^4 {\\frac{{{x^2} + 3}}{{x - 2}}dx}$ </td>\n",
    "        <td> 1) $\\int\\limits_{ - 2}^{ - 1} {\\frac{{x + 1}}{{{x^3} - {x^2}}}dx}$ </td>\n",
    "        <td> 2) $\\int\\limits_1^2 {\\frac{{{e^{1/{x^2}}}}}{{{x^3}}}dx}$ </td>\n",
    "        <td> 3) $\\int\\limits_1^e {\\frac{{\\cos (\\ln x)}}{x}dx}$ </td>\n",
    "        <td> 4) $\\int\\limits_1^e {\\frac{{dx}}{{x(1 + {{\\ln }^2}x)}}}$ </td>\n",
    "    </tr>                \n",
    "    <tr>\n",
    "        <td> 5) $\\int\\limits_0^{\\pi /2} {{{\\cos }^3}\\alpha \\;d\\alpha }$ </td>\n",
    "        <td> 6) $\\int\\limits_0^{1/3} {c{h^2}3x\\;dx}$ </td>\n",
    "        <td> 7) $\\int\\limits_2^3 {\\frac{{dy}}{{{y^2} - 2y - 8}}dy}$ </td>\n",
    "        <td> 8) $\\int\\limits_{3/4}^2 {\\frac{{dx}}{{\\sqrt {2 + 3x - 2{x^2}} }}}$ </td>\n",
    "        <td> 9) $\\int\\limits_0^2 {\\frac{{2x - 1}}{{2x + 1}}dx}$ </td>\n",
    "        </tr>\n",
    "</table>"
   ]
  },
  {
   "cell_type": "code",
   "execution_count": 117,
   "metadata": {},
   "outputs": [
    {
     "name": "stdout",
     "output_type": "stream",
     "text": [
      "Мой вариант: 9\n",
      "0.39055213474369765\n",
      "0.3905601347234616\n",
      "0.39056013475546186\n"
     ]
    }
   ],
   "source": [
    "def f(x):\n",
    "    return (2 * x - 1) / (2 * x + 1)\n",
    "\n",
    "def riemann(f, a, b, h):\n",
    "    X = np.linspace(a, b - h, int((b - a) / h))\n",
    "    y = f(X) * h\n",
    "    return np.sum(y)\n",
    "\n",
    "def trapez(f, a, b, h):\n",
    "    X = np.linspace(a, b, int((b - a) / h) + 1)\n",
    "    y = h / 2 * (f(X[0]) + 2 * np.sum(f(X[1 : - 1])) + f(X[-1]))\n",
    "    return y\n",
    "\n",
    "def simpson(f, a, b, h):\n",
    "    X = np.linspace(a, b, 2 * int((b - a) / h) + 1)\n",
    "    N = len(X) - 1\n",
    "    y = h / 6 * (f(X[0]) + 2 * np.sum(f(X[2 : N : 2]))  + 4 * np.sum(f(X[1 : N : 2])) + f(X[N]))\n",
    "    return y\n",
    "    \n",
    "np.random.seed(1032192938)\n",
    "n = np.random.randint(10)\n",
    "print('Мой вариант:', n)\n",
    "print(reinmann(f, 0, 2, 0.00001))\n",
    "print(trapez(f, 0, 2, 0.00001))\n",
    "print(simpson(f, 0, 2, 0.00001))\n"
   ]
  },
  {
   "cell_type": "markdown",
   "metadata": {},
   "source": [
    "**В результате аналитического решения был получен ответ 2-ln(5), это 0.39056208756**"
   ]
  }
 ],
 "metadata": {
  "kernelspec": {
   "display_name": "Python 3",
   "language": "python",
   "name": "python3"
  },
  "language_info": {
   "codemirror_mode": {
    "name": "ipython",
    "version": 3
   },
   "file_extension": ".py",
   "mimetype": "text/x-python",
   "name": "python",
   "nbconvert_exporter": "python",
   "pygments_lexer": "ipython3",
   "version": "3.7.6"
  }
 },
 "nbformat": 4,
 "nbformat_minor": 2
}
