{
 "cells": [
  {
   "cell_type": "markdown",
   "metadata": {},
   "source": [
    "# Назарьин Артем \n",
    "#### НПМбд-01-19\n"
   ]
  },
  {
   "cell_type": "markdown",
   "metadata": {},
   "source": [
    "<h1><center>LU / LUP разложения</center></h1>\n"
   ]
  },
  {
   "cell_type": "markdown",
   "metadata": {},
   "source": [
    "<font size=\"4\"> <strong> LU-разложение </strong> — это представление матрицы A в виде A=LU, где L — нижнетреугольная матрица с еденичной диагональю, а U — верхнетреугольная матрица. LU-разложение является модификациеё метода Гаусса. Основные применения данного алгоритма — решение систем алгебраических уравнений, вычисление определителя, вычисление обратной матрицы и др. \n",
    "<font size=\"4\"> <h3> Реализация LU-разложения </h3>\n",
    "\n",
    "\n",
    "LU-разложение может быть реализовано на Python при помощи библиотеки numpy как с двойным циклом for, так и без него. Для работы с алгоритмами необходимо импортировать библиотеки numpy и scipy (вторую библиотеку мы будем использовать для проверки работы алгоритмов. </font>"
   ]
  },
  {
   "cell_type": "code",
   "execution_count": 2,
   "metadata": {},
   "outputs": [],
   "source": [
    "import numpy as np\n",
    "import scipy.linalg"
   ]
  },
  {
   "cell_type": "markdown",
   "metadata": {},
   "source": [
    "<font size=\"4\"> В качестве матрицы A возьмем: \n",
    "<img src=\"https://latex.codecogs.com/gif.latex?A=\\begin{pmatrix}%2010&-7&0%20\\\\%20-3&6%20&2%20\\\\%205&-1%20&5%20\\end{pmatrix}\">\n",
    "Пример реализации алгоритма с двойным циклом for: </font>"
   ]
  },
  {
   "cell_type": "code",
   "execution_count": 3,
   "metadata": {},
   "outputs": [
    {
     "data": {
      "text/plain": [
       "(array([[ 1.        ,  0.        ,  0.        ],\n",
       "        [-0.3       ,  1.        ,  0.        ],\n",
       "        [ 0.5       ,  0.64102564,  1.        ]]),\n",
       " array([[10.        , -7.        ,  0.        ],\n",
       "        [ 0.        ,  3.9       ,  2.        ],\n",
       "        [ 0.        ,  0.        ,  3.71794872]]))"
      ]
     },
     "execution_count": 3,
     "metadata": {},
     "output_type": "execute_result"
    }
   ],
   "source": [
    "matrix = np.array([[10, -7, 0], \n",
    "                   [-3, 6, 2], \n",
    "                   [5, -1, 5.]])\n",
    "\n",
    "def LU(A):\n",
    "    n = A.shape[0]\n",
    "    U = np.copy(A)\n",
    "    L = np.eye(n)\n",
    "    for i in range(n):\n",
    "        k = U[i,i]\n",
    "        for j in range(i+1, n):\n",
    "            L[j,i] = U[j,i] / k\n",
    "            U[j] = U[j] - L[j,i] * U[i]\n",
    "    return L,U\n",
    "LU(matrix)"
   ]
  },
  {
   "cell_type": "markdown",
   "metadata": {},
   "source": [
    "<font size=\"4\"><center> По условию двойной цикл for нас не удовлетворяет: попробуем немного изменить программу: </center></font>\n",
    "\n"
   ]
  },
  {
   "cell_type": "code",
   "execution_count": 4,
   "metadata": {},
   "outputs": [
    {
     "data": {
      "text/plain": [
       "(array([[ 1.        ,  0.        ,  0.        ],\n",
       "        [-0.3       ,  1.        ,  0.        ],\n",
       "        [ 0.5       ,  0.64102564,  1.        ]]),\n",
       " array([[10.        , -7.        ,  0.        ],\n",
       "        [ 0.        ,  3.9       ,  2.        ],\n",
       "        [ 0.        ,  0.        ,  3.71794872]]))"
      ]
     },
     "execution_count": 4,
     "metadata": {},
     "output_type": "execute_result"
    }
   ],
   "source": [
    "def lu_decomposition(A):\n",
    "    n = A.shape[0]\n",
    "    U = np.copy(A)\n",
    "    L = np.eye(n)\n",
    "    for i in range(n - 1):\n",
    "        L[i + 1:, i] = U[:, i][i + 1:] / U[i, i]\n",
    "        m = np.reshape(L[i + 1:, i],(n - i - 1, 1))   #переформировываем значения L[i + 1:, i] из строки в столбец\n",
    "        U[i + 1:, ] -= m * U[i]\n",
    "    return L, U\n",
    "lu_decomposition(matrix)"
   ]
  },
  {
   "cell_type": "markdown",
   "metadata": {},
   "source": [
    "<font size=\"4\"> При помощи <strong> numpy.copy </strong> делаем копию  U для матрицы A, при помощи <strong> numpy.eye </strong> делаем единичную матрицу L. Цель: заполнить \"нижний треугольник\" матрицы L и \"верхний треугольник\" матрицы U. \n",
    "Берем цикл for с i от 1 до числа строк/столбцов нашей матрицы (данное число мы получим при помощи <strong> shape </strong>). Для того, чтобы заполнить значения под единицами в матрице L, <strong> делим элементы i-столбца под i-строкой на элемент U[i,i] </strong>. Для того, чтобы обнулить значения под i-м элементом i-й строки, <strong> вычитаем из области под i-й строкой i-ю строку, умноженную на коэффициент m </strong>.  \n",
    "Затем проверяем правильность работы алгоритма при помощи <strong>scipy.linalg.lu</strong>: </font>"
   ]
  },
  {
   "cell_type": "code",
   "execution_count": 5,
   "metadata": {},
   "outputs": [
    {
     "name": "stdout",
     "output_type": "stream",
     "text": [
      "[[ 1.          0.          0.        ]\n",
      " [-0.3         1.          0.        ]\n",
      " [ 0.5         0.64102564  1.        ]]\n",
      "[[10.         -7.          0.        ]\n",
      " [ 0.          3.9         2.        ]\n",
      " [ 0.          0.          3.71794872]]\n"
     ]
    }
   ],
   "source": [
    "P,L,U = scipy.linalg.lu(matrix)\n",
    "print(L)\n",
    "print(U)"
   ]
  },
  {
   "cell_type": "markdown",
   "metadata": {},
   "source": [
    "<font size=\"4\"> Перейдем к LUP-разложению:\n",
    "\n",
    "<strong> LUP-разложение </strong> — это представление данной матрицы A в виде произведения PA = LU где матрица L является нижнетреугольной с единицами на главной диагонали, U — верхнетреугольная общего вида, а P — т. н. матрица перестановок, получаемая из единичной матрицы путём перестановки строк или столбцов. <em> Определение взято из википедии. </em>\n",
    "\n",
    "<h3> Реализация LUP-разложения </h3>\n",
    "\n",
    "LUP-разложение может быть реализовано на Python при помощи библиотеки numpy как с тройным циклом for, так и без него. Матрица A все та же. Пример реализации при помощи тройного цикла:\n",
    "</font>\n"
   ]
  },
  {
   "cell_type": "code",
   "execution_count": 6,
   "metadata": {},
   "outputs": [
    {
     "data": {
      "text/plain": [
       "[array([[10.        , -7.        ,  0.        ],\n",
       "        [-0.3       ,  3.9       ,  2.        ],\n",
       "        [ 0.5       ,  0.64102564,  3.71794872]]),\n",
       " array([0, 1, 2])]"
      ]
     },
     "execution_count": 6,
     "metadata": {},
     "output_type": "execute_result"
    }
   ],
   "source": [
    "def lu_factor(A):\n",
    "    n = A.shape[0]\n",
    "    piv = np.arange(0,n)\n",
    "    for k in range(n-1):\n",
    "        max_row_index = np.argmax(abs(A[k:n,k])) + k\n",
    "        piv[[k,max_row_index]] = piv[[max_row_index,k]]\n",
    "        A[[k,max_row_index]] = A[[max_row_index,k]]\n",
    "\n",
    "        # LU \n",
    "        for i in range(k+1,n):          \n",
    "            A[i,k] = A[i,k]/A[k,k]      \n",
    "            for j in range(k+1,n):      \n",
    "                A[i,j] -= A[i,k]*A[k,j] \n",
    "\n",
    "    return [A,piv]\n",
    "lu_factor(matrix)"
   ]
  },
  {
   "cell_type": "markdown",
   "metadata": {},
   "source": [
    "<font size=\"4\"> По условию тройной цикл for нас не удовлетворяет: попробуем немного изменить программу.\n",
    "Можно ввести функцию <strong> change_rows </strong>, отвечающую за перестановку строк. </font>"
   ]
  },
  {
   "cell_type": "code",
   "execution_count": 20,
   "metadata": {},
   "outputs": [
    {
     "name": "stdout",
     "output_type": "stream",
     "text": [
      "[[ 1.          0.          0.        ]\n",
      " [-0.3         1.          0.        ]\n",
      " [ 0.5         0.64102564  1.        ]]\n",
      "[[10.         -7.          0.        ]\n",
      " [ 0.          3.9         2.        ]\n",
      " [ 0.          0.          3.71794872]]\n"
     ]
    }
   ],
   "source": [
    "def change_rows(A, i, j):\n",
    "    if i == j:\n",
    "        return A\n",
    "    A[i], A[j] = A[j], np.copy(A[i])\n",
    "        \n",
    "    \n",
    "def lup_factor(A):\n",
    "    n = A.shape[0]\n",
    "    U = np.copy(A)\n",
    "    L = np.zeros((n, n))\n",
    "    P = np.eye(n)\n",
    "    for i in range(n-1):\n",
    "        max_row_index = np.argmax(abs(A[i:n,i])) + i\n",
    "        if max_row_index != i:\n",
    "            change_rows(U, i, max_row_index)\n",
    "            change_rows(L, i, max_row_index)\n",
    "            change_rows(P, i, max_row_index)\n",
    "            L[i + 1:, k] = U[:, i][i + 1:] / U[i, i]\n",
    "            m = np.reshape(L[i + 1:, i],(n - i - 1, 1))\n",
    "            U[i + 1:, ] -= m * U[i]\n",
    "        return P, L + np.eye(n), U\n",
    "lu_factor(matrix)\n",
    "print(L)\n",
    "print(U)"
   ]
  },
  {
   "cell_type": "markdown",
   "metadata": {},
   "source": [
    "<font size=\"4\"> При помощи <strong> numpy.copy </strong> делаем копию  U для матрицы A, при помощи <strong> numpy.zeros </strong> делаем матрицу L, состоящую из нулей размера n x n (в данном случае 3 x 3), при помощи <strong> numpy.eye </strong> делаем единичную матрицу P. P — матрица перестановок. Суть:  при помощи <strong> numpy.argmax </strong> ищем максимальный (по модулю) элемент среди элементов i-го столбца, находящихся не выше i-й строки, затем меняем местами строку с этим элементом с i-й строкой. В остальном все так же, как в разложении LU. </font>"
   ]
  },
  {
   "cell_type": "markdown",
   "metadata": {},
   "source": [
    "<font size=\"4\"> <h3> Реализация алгоритма решения СЛАУ при помощи LU/LUP-разложений </h3>\n",
    "\n",
    "Однажды найдя LU-разложение для матрицы мы можем очень быстро решать системы линейных алгебраических уравнений с различной правой частью.\n",
    "<img src=\"https://latex.codecogs.com/gif.latex?A\\cdot%20\\bar{x}=\\bar{b}\">\n",
    "<img src=\"https://latex.codecogs.com/gif.latex?L\\cdot%20U\\cdot%20\\bar{x}=\\bar{b}\">\n",
    "<img src=\"https://latex.codecogs.com/gif.latex?\\bar{y}=U\\cdot%20\\bar{x}\">\n",
    "<img src=\"https://latex.codecogs.com/gif.latex?L\\cdot%20\\bar{y}=\\bar{b}\">\n",
    "<center> Так как <strong>L</strong> — нижнетреугольная матрица, то очень легко находим $\\tilde{y}$ </center>\n",
    "Решаем <img src=\"https://latex.codecogs.com/gif.latex?U\\cdot%20\\bar{x}%20=%20\\bar{y}\">\n",
    "    <center> Легко находим $\\tilde{x}$, так как <strong> U </strong> — верхнетреугольная матрица </center>\n",
    "</font>\n",
    "\n"
   ]
  },
  {
   "cell_type": "markdown",
   "metadata": {},
   "source": [
    "<font size=\"4\"> Для поиска $\\tilde{y}$ используем прямую подстановку. Первый элемент будет равен первому элементу вектора b. Последующие ряды будут находиться вычитанием из b[i] скалярного произведения i-ой строки (реализованного при помощи <strong> numpy.dot </strong> c элементами от 0 до i-1 вектора y с элементами от 0 до i-1, деленного на L[i,i] (т.е. на единицы)\n",
    "Для поиска $\\tilde{x}$ используем обратную подстановку. \n",
    "Первый элемент будет равен последнему элементу вектора b, деленного на U[i, i]. Последующие ряды будут находиться вычитанием из b[i] скалярного произведения i-ой строки c элементами от 0 до i-1 вектора y с элементами от 0 до i-1, деленного на U[i,i].\n",
    "</font>"
   ]
  },
  {
   "cell_type": "code",
   "execution_count": 23,
   "metadata": {},
   "outputs": [
    {
     "data": {
      "text/plain": [
       "array([ 0.22068966,  0.17241379, -0.1862069 ])"
      ]
     },
     "execution_count": 23,
     "metadata": {},
     "output_type": "execute_result"
    }
   ],
   "source": [
    "matrix = np.array([[10, -7, 0], \n",
    "                   [-3, 6, 2], \n",
    "                   [5, -1, 5.]])\n",
    "b = np.array([1, 0, 0])\n",
    "L = np.array([[1., 0.,0.],\n",
    "            [-0.3, 1., 0.],\n",
    "            [0.5, 0.64102564,1.]])\n",
    "U = np.array([[10., -7.,0.],\n",
    "            [ 0., 3.9, 2.],\n",
    "            [ 0.,0.,3.71794872]])\n",
    "\n",
    "def fw_substitution(L, b):\n",
    "    n = L.shape[0]\n",
    "    y = np.zeros_like(b, dtype=np.double);\n",
    "    y[0] = b[0] / L[0, 0]\n",
    "    for i in range(1, n):\n",
    "        y[i] = (b[i] - np.dot(L[i,:i], y[:i])) / L[i,i]\n",
    "    return y\n",
    "\n",
    "def back_substitution(U, y):\n",
    "    n = U.shape[0]\n",
    "    x = np.zeros_like(y, dtype=np.double);\n",
    "    x[-1] = y[-1] / U[-1, -1]\n",
    "    for i in range(n-2, -1, -1):\n",
    "        x[i] = (y[i] - np.dot(U[i,i:], x[i:])) / U[i,i]\n",
    "        \n",
    "    return x\n",
    "def lu_solve(A, b):\n",
    "    y = fw_substitution(L, b)\n",
    "    return back_substitution(U, y)\n",
    "\n",
    "lu_solve(matrix, b)"
   ]
  },
  {
   "cell_type": "markdown",
   "metadata": {},
   "source": [
    "<font size=\"4\"> Проверяем правильность работы алгоритма при помощи <strong>linalg.solve</strong>: </font>"
   ]
  },
  {
   "cell_type": "code",
   "execution_count": 22,
   "metadata": {},
   "outputs": [
    {
     "data": {
      "text/plain": [
       "array([ 0.22068966,  0.17241379, -0.1862069 ])"
      ]
     },
     "execution_count": 22,
     "metadata": {},
     "output_type": "execute_result"
    }
   ],
   "source": [
    "np.linalg.solve(matrix, b)"
   ]
  },
  {
   "cell_type": "markdown",
   "metadata": {},
   "source": [
    "Разница между методами состоит в том, что LU - чистая форма разложения, а для LUP используются перестановки строк, что позволяет решить проблему при наличии нулевого члена матрицы. "
   ]
  }
 ],
 "metadata": {
  "kernelspec": {
   "display_name": "Python 3",
   "language": "python",
   "name": "python3"
  },
  "language_info": {
   "codemirror_mode": {
    "name": "ipython",
    "version": 3
   },
   "file_extension": ".py",
   "mimetype": "text/x-python",
   "name": "python",
   "nbconvert_exporter": "python",
   "pygments_lexer": "ipython3",
   "version": "3.7.6"
  }
 },
 "nbformat": 4,
 "nbformat_minor": 4
}
