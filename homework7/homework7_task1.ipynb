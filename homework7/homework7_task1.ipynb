{
 "cells": [
  {
   "cell_type": "markdown",
   "metadata": {},
   "source": [
    "# Назарьин Артем, НПМбд-02-19\n",
    "### Задание 1: четные индексы"
   ]
  },
  {
   "cell_type": "code",
   "execution_count": 1,
   "metadata": {},
   "outputs": [
    {
     "name": "stdout",
     "output_type": "stream",
     "text": [
      "1 2 3 4 5\n",
      "1 3 5\n"
     ]
    }
   ],
   "source": [
    "a = input()\n",
    "print(' '.join(a.split()[::2]))"
   ]
  },
  {
   "cell_type": "markdown",
   "metadata": {},
   "source": [
    "### Задание 2: наибольший элемент и его индекс"
   ]
  },
  {
   "cell_type": "code",
   "execution_count": 2,
   "metadata": {},
   "outputs": [
    {
     "name": "stdout",
     "output_type": "stream",
     "text": [
      "1 2 3 4 5 6 7 8\n",
      "8 7\n"
     ]
    }
   ],
   "source": [
    "a = list(map(int, input().split()))\n",
    "print(max(a), a.index(max(a)))"
   ]
  },
  {
   "cell_type": "markdown",
   "metadata": {},
   "source": [
    "### Задание 3: вывести в обратном порядке"
   ]
  },
  {
   "cell_type": "code",
   "execution_count": 3,
   "metadata": {},
   "outputs": [
    {
     "name": "stdout",
     "output_type": "stream",
     "text": [
      "1 2 3 4 5\n",
      "5 4 3 2 1\n"
     ]
    }
   ],
   "source": [
    "print(' '.join(input().split()[::-1]))"
   ]
  },
  {
   "cell_type": "markdown",
   "metadata": {},
   "source": [
    "### Задание 4: переставить соседние"
   ]
  },
  {
   "cell_type": "code",
   "execution_count": 5,
   "metadata": {},
   "outputs": [
    {
     "name": "stdout",
     "output_type": "stream",
     "text": [
      "1 2 3 4 5\n",
      "2 1 4 3 5\n"
     ]
    }
   ],
   "source": [
    "a = list(input().split())\n",
    "a[:-1:2], a[1::2] = a[1::2], a[:-1:2]   #все нечетные элементы, кроме последнего; все четные элементы со второго \n",
    "print(' '.join(a))"
   ]
  },
  {
   "cell_type": "markdown",
   "metadata": {},
   "source": [
    "### Задание 5:  Циклический сдвиг вправо"
   ]
  },
  {
   "cell_type": "code",
   "execution_count": 6,
   "metadata": {},
   "outputs": [
    {
     "name": "stdout",
     "output_type": "stream",
     "text": [
      "1 2 3 4 5\n",
      "2 3 4 5 1\n"
     ]
    }
   ],
   "source": [
    "a = input().split()\n",
    "print(' '.join(a[1:]), a[0])       #вывводятся все элементы, начиная со второго, первый элемент ставится в коне"
   ]
  },
  {
   "cell_type": "markdown",
   "metadata": {},
   "source": [
    "### Задание 6:  Удалить элемент"
   ]
  },
  {
   "cell_type": "code",
   "execution_count": 8,
   "metadata": {},
   "outputs": [
    {
     "name": "stdout",
     "output_type": "stream",
     "text": [
      "7 6 5 4 3 2 1\n",
      "2\n",
      "7 6 4 3 2 1\n"
     ]
    }
   ],
   "source": [
    "a = list(input().split())      \n",
    "a.pop(int(input()))             #удаляем индекс того элемента, который ввели\n",
    "print(' '.join(a))"
   ]
  },
  {
   "cell_type": "markdown",
   "metadata": {},
   "source": [
    "### Задание 7:  Вставить элемент"
   ]
  },
  {
   "cell_type": "code",
   "execution_count": 9,
   "metadata": {},
   "outputs": [
    {
     "name": "stdout",
     "output_type": "stream",
     "text": [
      "1 2 3 4 5 6 7\n",
      "2 0\n",
      "1 2 0 3 4 5 6 7\n"
     ]
    }
   ],
   "source": [
    "a = input().split()\n",
    "n, elem = map(int, input().split())\n",
    "print(*a[:n], elem, *a[n:])"
   ]
  },
  {
   "cell_type": "markdown",
   "metadata": {},
   "source": [
    "### Задание 8: Большой сдвиг"
   ]
  },
  {
   "cell_type": "code",
   "execution_count": 10,
   "metadata": {},
   "outputs": [
    {
     "name": "stdout",
     "output_type": "stream",
     "text": [
      "1 2 3 4 5 6 7\n",
      "3\n",
      "3 4 5 6 7 1 2\n"
     ]
    }
   ],
   "source": [
    "a, b = input().split(), int(input())\n",
    "print(' '.join(a[b - 1:] + a[:b - 1]))"
   ]
  }
 ],
 "metadata": {
  "kernelspec": {
   "display_name": "Python 3",
   "language": "python",
   "name": "python3"
  },
  "language_info": {
   "codemirror_mode": {
    "name": "ipython",
    "version": 3
   },
   "file_extension": ".py",
   "mimetype": "text/x-python",
   "name": "python",
   "nbconvert_exporter": "python",
   "pygments_lexer": "ipython3",
   "version": "3.7.6"
  }
 },
 "nbformat": 4,
 "nbformat_minor": 4
}
